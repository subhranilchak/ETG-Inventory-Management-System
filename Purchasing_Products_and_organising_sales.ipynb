{
  "nbformat": 4,
  "nbformat_minor": 0,
  "metadata": {
    "colab": {
      "name": "Purchasing Products and organising sales.ipynb",
      "provenance": [],
      "collapsed_sections": []
    },
    "kernelspec": {
      "name": "python3",
      "display_name": "Python 3"
    },
    "language_info": {
      "name": "python"
    }
  },
  "cells": [
    {
      "cell_type": "code",
      "metadata": {
        "id": "mevyNi5s_ywe"
      },
      "source": [
        "record = {1110: {\"Name\": \"Apple\", \"Price\": 40, \"Quantity\": 100, \"Mfg\": \"02-09-2021\", \"Exp\": \"15-09-2021\"},\n",
        "          1111: {\"Name\": \"Water-Melon\", \"Price\": 30, \"Quantity\": 120, \"Mfg\": \"02-09-2021\", \"Exp\": \"10-09-2021\"},\n",
        "          1112: {\"Name\": \"250gm Raisins\", \"Price\": 320, \"Quantity\": 200, \"Mfg\": \"31-08-2021\", \"Exp\": \"30-10-2021\"},\n",
        "          1113: {\"Name\": \"250gm Peanuts\", \"Price\": 300, \"Quantity\": 150, \"Mfg\": \"31-08-2021\", \"Exp\": \"30-10-2021\"},\n",
        "          1114: {\"Name\": \"Instant NOodles\", \"Price\": 30, \"Quantity\": 70, \"Mfg\": \"02-09-2021\", \"Exp\": \"15-10-2021\"},\n",
        "          1115: {\"Name\": \"1kg Vermicelli\", \"Price\": 40, \"Quantity\": 100, \"Mfg\": \"02-09-2021\", \"Exp\": \"15-10-2021\"},\n",
        "          1116: {\"Name\": \"Corn Flakes\", \"Price\": 100, \"Quantity\": 60, \"Mfg\": \"02-09-2021\", \"Exp\": \"20-10-2021\"},\n",
        "          1117: {\"Name\": \"Strawberry Corn Flakes\", \"Price\": 200, \"Quantity\": 80, \"Mfg\": \"02-09-2021\", \"Exp\": \"20-10-2021\"},\n",
        "          1118: {\"Name\": \"Eggs a dozen\", \"Price\": 50, \"Quantity\": 50, \"Mfg\": \"02-09-2021\", \"Exp\": \"15-09-2021\"},\n",
        "          1119: {\"Name\": \"Muesli\", \"Price\": 250, \"Quantity\": 70, \"Mfg\": \"02-09-2021\", \"Exp\": \"15-09-2021\"},\n",
        "          11110: {\"Name\": \"Truful(Cake)\", \"Price\": 400, \"Quantity\": 20, \"Mfg\": \"02-09-2021\", \"Exp\": \"09-09-2021\"},\n",
        "          11111: {\"Name\": \"Dairy Milk Celebrations\", \"Price\": 300, \"Quantity\": 80, \"Mfg\": \"02-09-2021\", \"Exp\": \"25-09-2021\"},\n",
        "          11112: {\"Name\": \"Pizza Base(Pack of 2)\", \"Price\": 30, \"Quantity\": 30, \"Mfg\": \"01-09-2021\", \"Exp\": \"15-09-2021\"},\n",
        "          11113: {\"Name\": \"Pizza Pasta Sauce\", \"Price\": 170, \"Quantity\": 80, \"Mfg\": \"02-09-2021\", \"Exp\": \"20-10-2021\"},\n",
        "          11114: {\"Name\": \"Pasta\", \"Price\": 100, \"Quantity\": 60, \"Mfg\": \"02-09-2021\", \"Exp\": \"15-10-2021\"},\n",
        "          11115: {\"Name\": \"Mayonnaise\", \"Price\": 90, \"Quantity\": 75, \"Mfg\": \"02-09-2021\", \"Exp\": \"30-10-2021\"},\n",
        "          11116: {\"Name\": \"Cheese\", \"Price\": 60, \"Quantity\": 50, \"Mfg\": \"02-09-2021\", \"Exp\": \"15-10-2021\"},\n",
        "          11117: {\"Name\": \"Jeera Rice\", \"Price\": 100, \"Quantity\": 40, \"Mfg\": \"01-09-2021\", \"Exp\": \"30-10-2021\"},\n",
        "          11118: {\"Name\": \"Veg Soup\", \"Price\": 35, \"Quantity\": 90, \"Mfg\": \"02-09-2021\", \"Exp\": \"30-10-2021\"},\n",
        "          11119: {\"Name\": \"Perk Chocolate Packet of 100\", \"Price\": 100, \"Quantity\": 60, \"Mfg\": \"01-09-2021\", \"Exp\": \"30-09-2021\"},\n",
        "          11120: {\"Name\": \"5-Star Chocolate Pack of 100\", \"Price\": 150, \"Quantity\": 70, \"Mfg\": \"01-09-2021\", \"Exp\": \"30-09-2021\"},\n",
        "          11121: {\"Name\": \"MilkBar Chocolate Pack of 100\", \"Price\": 100, \"Quantity\": 60, \"Mfg\": \"01-09-2021\", \"Exp\": \"30-09-2021\"},\n",
        "          11121: {\"Name\": \"Dark Chocolate\", \"Price\": 100, \"Quantity\": 80, \"Mfg\": \"01-09-2021\", \"Exp\": \"25-09-2021\"},\n",
        "          11122: {\"Name\": \"Instant Idli\", \"Price\": 40, \"Quantity\": 50, \"Mfg\": \"01-09-2021\", \"Exp\": \"25-10-2021\"},\n",
        "          11123: {\"Name\": \"Rawa Idli\", \"Price\": 50, \"Quantity\": 60, \"Mfg\": \"01-09-2021\", \"Exp\": \"30-10-2021\"},\n",
        "          11124: {\"Name\": \"Instant Gulab Jamun\", \"Price\": 70, \"Quantity\": 100, \"Mfg\": \"01-09-2021\", \"Exp\": \"30-10-2021\"},\n",
        "          11125: {\"Name\": \"Maggi\", \"Price\": 20, \"Quantity\": 80, \"Mfg\": \"01-09-2021\", \"Exp\": \"30-10-2021\"},\n",
        "          11126: {\"Name\": \"Dhokla Mix\", \"Price\": 110, \"Quantity\": 120, \"Mfg\": \"01-09-2021\", \"Exp\": \"30-10-2021\"},\n",
        "          11127: {\"Name\": \"Dosa Mix\", \"Price\": 120, \"Quantity\": 130, \"Mfg\": \"01-09-2021\", \"Exp\": \"30-10-2021\"},\n",
        "          11128: {\"Name\": \"Sambahr Mix\", \"Price\": 100, \"Quantity\": 200, \"Mfg\": \"01-09-2021\", \"Exp\": \"30-10-2021\"},\n",
        "          11129: {\"Name\": \"amily Pack Pista Icecream\", \"Price\": 170, \"Quantity\": 80, \"Mfg\": \"01-09-2021\", \"Exp\": \"30-10-2021\"}}"
      ],
      "execution_count": null,
      "outputs": []
    },
    {
      "cell_type": "markdown",
      "metadata": {
        "id": "xlXQy7u-D9vn"
      },
      "source": [
        "# **READ INVENTORY**"
      ]
    },
    {
      "cell_type": "code",
      "metadata": {
        "id": "izOvL0Mle8lZ"
      },
      "source": [
        "import json\n",
        "js=json.dumps(record)"
      ],
      "execution_count": null,
      "outputs": []
    },
    {
      "cell_type": "code",
      "metadata": {
        "id": "H4ykf7G-lZfN"
      },
      "source": [
        "import json\n",
        "js=json.dumps(record)"
      ],
      "execution_count": null,
      "outputs": []
    },
    {
      "cell_type": "markdown",
      "metadata": {
        "id": "g8wBiCHiEGyo"
      },
      "source": [
        "# **PURCHASE ITEMS**"
      ]
    },
    {
      "cell_type": "code",
      "metadata": {
        "colab": {
          "base_uri": "https://localhost:8080/"
        },
        "id": "RVS38k97ctAu",
        "outputId": "efe40d4f-6cf6-47a3-bcf7-ae7001a6469a"
      },
      "source": [
        "print(\"Check the items: \",record)\n",
        "print(\"_________________________________________________________________________________________\")\n",
        "reg=int(input(\"Enter the product ID: \"))\n",
        "qty=int(input(\"Enter the quantity: \"))\n",
        "\n",
        "if(reg in record):\n",
        "      print(\"B I L L\")\n",
        "      print(\"Name: \",record[reg]['Name'])\n",
        "      print(\"Price: \",record[reg]['Price'])\n",
        "      print(\"Quantity\",qty)\n",
        "      print(\"*****************************************\")\n",
        "      print(\"*****************************************\")\n",
        "      print(\"Total price: \", record[reg]['Price']*qty)\n",
        "      print(\"--------------------HOPE TO SEE YOU AGAIN---------------------\")\n",
        "else:\n",
        "  print(\"Check the list! Enter the correct id.\")"
      ],
      "execution_count": 62,
      "outputs": [
        {
          "output_type": "stream",
          "name": "stdout",
          "text": [
            "Check the items:  {1110: {'Name': 'Apple', 'Price': 40, 'Quantity': 100, 'Mfg': '02-09-2021', 'Exp': '15-09-2021'}, 1111: {'Name': 'Water-Melon', 'Price': 30, 'Quantity': 120, 'Mfg': '02-09-2021', 'Exp': '10-09-2021'}, 1112: {'Name': '250gm Raisins', 'Price': 320, 'Quantity': 200, 'Mfg': '31-08-2021', 'Exp': '30-10-2021'}, 1113: {'Name': '250gm Peanuts', 'Price': 300, 'Quantity': 150, 'Mfg': '31-08-2021', 'Exp': '30-10-2021'}, 1114: {'Name': 'Instant NOodles', 'Price': 30, 'Quantity': 70, 'Mfg': '02-09-2021', 'Exp': '15-10-2021'}, 1115: {'Name': '1kg Vermicelli', 'Price': 40, 'Quantity': 100, 'Mfg': '02-09-2021', 'Exp': '15-10-2021'}, 1116: {'Name': 'Corn Flakes', 'Price': 100, 'Quantity': 60, 'Mfg': '02-09-2021', 'Exp': '20-10-2021'}, 1117: {'Name': 'Strawberry Corn Flakes', 'Price': 200, 'Quantity': 80, 'Mfg': '02-09-2021', 'Exp': '20-10-2021'}, 1118: {'Name': 'Eggs a dozen', 'Price': 50, 'Quantity': 50, 'Mfg': '02-09-2021', 'Exp': '15-09-2021'}, 1119: {'Name': 'Muesli', 'Price': 250, 'Quantity': 70, 'Mfg': '02-09-2021', 'Exp': '15-09-2021'}, 11110: {'Name': 'Truful(Cake)', 'Price': 400, 'Quantity': 20, 'Mfg': '02-09-2021', 'Exp': '09-09-2021'}, 11111: {'Name': 'Dairy Milk Celebrations', 'Price': 300, 'Quantity': 80, 'Mfg': '02-09-2021', 'Exp': '25-09-2021'}, 11112: {'Name': 'Pizza Base(Pack of 2)', 'Price': 30, 'Quantity': 30, 'Mfg': '01-09-2021', 'Exp': '15-09-2021'}, 11113: {'Name': 'Pizza Pasta Sauce', 'Price': 170, 'Quantity': 80, 'Mfg': '02-09-2021', 'Exp': '20-10-2021'}, 11114: {'Name': 'Pasta', 'Price': 100, 'Quantity': 60, 'Mfg': '02-09-2021', 'Exp': '15-10-2021'}, 11115: {'Name': 'Mayonnaise', 'Price': 90, 'Quantity': 75, 'Mfg': '02-09-2021', 'Exp': '30-10-2021'}, 11116: {'Name': 'Cheese', 'Price': 60, 'Quantity': 50, 'Mfg': '02-09-2021', 'Exp': '15-10-2021'}, 11117: {'Name': 'Jeera Rice', 'Price': 100, 'Quantity': 40, 'Mfg': '01-09-2021', 'Exp': '30-10-2021'}, 11118: {'Name': 'Veg Soup', 'Price': 35, 'Quantity': 90, 'Mfg': '02-09-2021', 'Exp': '30-10-2021'}, 11119: {'Name': 'Perk Chocolate Packet of 100', 'Price': 100, 'Quantity': 60, 'Mfg': '01-09-2021', 'Exp': '30-09-2021'}, 11120: {'Name': '5-Star Chocolate Pack of 100', 'Price': 150, 'Quantity': 70, 'Mfg': '01-09-2021', 'Exp': '30-09-2021'}, 11121: {'Name': 'Dark Chocolate', 'Price': 100, 'Quantity': 80, 'Mfg': '01-09-2021', 'Exp': '25-09-2021'}, 11122: {'Name': 'Instant Idli', 'Price': 40, 'Quantity': 50, 'Mfg': '01-09-2021', 'Exp': '25-10-2021'}, 11123: {'Name': 'Rawa Idli', 'Price': 50, 'Quantity': 60, 'Mfg': '01-09-2021', 'Exp': '30-10-2021'}, 11124: {'Name': 'Instant Gulab Jamun', 'Price': 70, 'Quantity': 100, 'Mfg': '01-09-2021', 'Exp': '30-10-2021'}, 11125: {'Name': 'Maggi', 'Price': 20, 'Quantity': 80, 'Mfg': '01-09-2021', 'Exp': '30-10-2021'}, 11126: {'Name': 'Dhokla Mix', 'Price': 110, 'Quantity': 120, 'Mfg': '01-09-2021', 'Exp': '30-10-2021'}, 11127: {'Name': 'Dosa Mix', 'Price': 120, 'Quantity': 130, 'Mfg': '01-09-2021', 'Exp': '30-10-2021'}, 11128: {'Name': 'Sambahr Mix', 'Price': 100, 'Quantity': 200, 'Mfg': '01-09-2021', 'Exp': '30-10-2021'}, 11129: {'Name': 'amily Pack Pista Icecream', 'Price': 170, 'Quantity': 80, 'Mfg': '01-09-2021', 'Exp': '30-10-2021'}}\n",
            "_________________________________________________________________________________________\n",
            "Enter the product ID: 1111\n",
            "Enter the quantity: 8\n",
            "B I L L\n",
            "Name:  Water-Melon\n",
            "Price:  30\n",
            "Quantity 8\n",
            "*****************************************\n",
            "*****************************************\n",
            "Total price:  240\n",
            "--------------------HOPE TO SEE YOU AGAIN---------------------\n"
          ]
        }
      ]
    },
    {
      "cell_type": "markdown",
      "metadata": {
        "id": "xZyo3jmqEOs_"
      },
      "source": [
        "# **UPDATE INVENTORY AFTER PURCHASING**"
      ]
    },
    {
      "cell_type": "code",
      "metadata": {
        "id": "IWzY1EepuKEm"
      },
      "source": [
        "js = json.dumps(record)\n",
        "\n",
        "fd = open(\"record.json\",'w')\n",
        "fd.write(js)\n",
        "fd.close()"
      ],
      "execution_count": 63,
      "outputs": []
    },
    {
      "cell_type": "markdown",
      "metadata": {
        "id": "sdMBUaGODnJT"
      },
      "source": [
        "# **SALES JSON**"
      ]
    },
    {
      "cell_type": "code",
      "metadata": {
        "colab": {
          "base_uri": "https://localhost:8080/"
        },
        "id": "sy4k5MHeC1-6",
        "outputId": "dad85136-3e34-4a1f-f257-b034b39dae00"
      },
      "source": [
        "{'ProductID': reg, 'Qty': qty, 'Amt':record[reg]['Price'] * qty}"
      ],
      "execution_count": null,
      "outputs": [
        {
          "output_type": "execute_result",
          "data": {
            "text/plain": [
              "{'Amt': 200, 'ProductID': 1110, 'Qty': 5}"
            ]
          },
          "metadata": {},
          "execution_count": 20
        }
      ]
    },
    {
      "cell_type": "code",
      "metadata": {
        "colab": {
          "base_uri": "https://localhost:8080/"
        },
        "id": "WpBOx1Z9pDYi",
        "outputId": "006d1109-d8df-469c-8b6e-282f8747c71a"
      },
      "source": [
        "reg2=int(input(\"Enter the product ID: \"))\n",
        "qty2=int(input(\"Enter the quantity: \"))\n",
        "\n",
        "if(reg in record):\n",
        "      print(\"B I L L\")\n",
        "      print(\"Name: \",record[reg2]['Name'])\n",
        "      print(\"Price: \",record[reg2]['Price'])\n",
        "      print(\"Quantity\",qty)\n",
        "      print(\"*****************************************\")\n",
        "      print(\"*****************************************\")\n",
        "      print(\"Total price: \", record[reg]['Price']*qty2)\n",
        "      print(\"--------------------HOPE TO SEE YOU AGAIN---------------------\")\n",
        "else:\n",
        "  print(\"Check the list! Enter the correct id.\")"
      ],
      "execution_count": 52,
      "outputs": [
        {
          "output_type": "stream",
          "name": "stdout",
          "text": [
            "Enter the product ID: 1112\n",
            "Enter the quantity: 9\n",
            "B I L L\n",
            "Name:  250gm Raisins\n",
            "Price:  320\n",
            "Quantity 8\n",
            "*****************************************\n",
            "*****************************************\n",
            "Total price:  270\n",
            "--------------------HOPE TO SEE YOU AGAIN---------------------\n"
          ]
        }
      ]
    },
    {
      "cell_type": "code",
      "metadata": {
        "colab": {
          "base_uri": "https://localhost:8080/"
        },
        "id": "CH0FBPsepT3Z",
        "outputId": "6c5c5fb9-6c9d-4ea6-c0b6-ede7a1bb963f"
      },
      "source": [
        "{'ProductID2': reg2, 'Qty2': qty2, 'Amt2':record[reg2]['Price'] * qty2}"
      ],
      "execution_count": 53,
      "outputs": [
        {
          "output_type": "execute_result",
          "data": {
            "text/plain": [
              "{'Amt2': 2880, 'ProductID2': 1112, 'Qty2': 9}"
            ]
          },
          "metadata": {},
          "execution_count": 53
        }
      ]
    },
    {
      "cell_type": "code",
      "metadata": {
        "colab": {
          "base_uri": "https://localhost:8080/"
        },
        "id": "mQpyZaCWp1Rg",
        "outputId": "f423f84c-5415-4039-de7e-409329de64bf"
      },
      "source": [
        "reg3=int(input(\"Enter the product ID: \"))\n",
        "qty3=int(input(\"Enter the quantity: \"))\n",
        "\n",
        "if(reg in record):\n",
        "      print(\"B I L L\")\n",
        "      print(\"Name: \",record[reg3]['Name'])\n",
        "      print(\"Price: \",record[reg3]['Price'])\n",
        "      print(\"Quantity\",qty)\n",
        "      print(\"*****************************************\")\n",
        "      print(\"*****************************************\")\n",
        "      print(\"Total price: \", record[reg]['Price']*qty3)\n",
        "      print(\"--------------------HOPE TO SEE YOU AGAIN---------------------\")\n",
        "else:\n",
        "  print(\"Check the list! Enter the correct id.\")"
      ],
      "execution_count": 56,
      "outputs": [
        {
          "output_type": "stream",
          "name": "stdout",
          "text": [
            "Enter the product ID: 11112\n",
            "Enter the quantity: 6\n",
            "B I L L\n",
            "Name:  Pizza Base(Pack of 2)\n",
            "Price:  30\n",
            "Quantity 8\n",
            "*****************************************\n",
            "*****************************************\n",
            "Total price:  180\n",
            "--------------------HOPE TO SEE YOU AGAIN---------------------\n"
          ]
        }
      ]
    },
    {
      "cell_type": "code",
      "metadata": {
        "colab": {
          "base_uri": "https://localhost:8080/"
        },
        "id": "VOTND1Qkp2LR",
        "outputId": "bfdfb757-a409-4db8-e855-32817b74c7a9"
      },
      "source": [
        "{'ProductID3': reg3, 'Qty3': qty3, 'Amt3':record[reg3]['Price'] * qty3}"
      ],
      "execution_count": 57,
      "outputs": [
        {
          "output_type": "execute_result",
          "data": {
            "text/plain": [
              "{'Amt3': 180, 'ProductID3': 11112, 'Qty3': 6}"
            ]
          },
          "metadata": {},
          "execution_count": 57
        }
      ]
    },
    {
      "cell_type": "code",
      "metadata": {
        "id": "9tXsRJVglvzT"
      },
      "source": [
        "sales = {1 : {'ProductID' : reg, 'qn' : qty, 'amount': record[reg]['Price'] * qty},\n",
        "         2 : {'ProductID2' : reg2, 'qn2' : qty2, 'amount2': record[reg2]['Price'] * qty2},\n",
        "         3 : {'ProductID3' : reg3, 'qn3' : qty3, 'amount3': record[reg3]['Price'] * qty3}}"
      ],
      "execution_count": 58,
      "outputs": []
    },
    {
      "cell_type": "code",
      "metadata": {
        "colab": {
          "base_uri": "https://localhost:8080/"
        },
        "id": "ZG-avvP3mlSg",
        "outputId": "6ec6b6c7-0afc-4cdd-c02a-0173c274a003"
      },
      "source": [
        "sales"
      ],
      "execution_count": 59,
      "outputs": [
        {
          "output_type": "execute_result",
          "data": {
            "text/plain": [
              "{1: {'ProductID': 1111, 'amount': 240, 'qn': 8},\n",
              " 2: {'ProductID2': 1112, 'amount2': 2880, 'qn2': 9},\n",
              " 3: {'ProductID3': 11112, 'amount3': 180, 'qn3': 6}}"
            ]
          },
          "metadata": {},
          "execution_count": 59
        }
      ]
    },
    {
      "cell_type": "code",
      "metadata": {
        "id": "DTT2yFwMmpoE"
      },
      "source": [
        "import json\n",
        "js=json.dumps(sales)"
      ],
      "execution_count": 60,
      "outputs": []
    },
    {
      "cell_type": "code",
      "metadata": {
        "id": "17l91Nz4nIq9"
      },
      "source": [
        "fd = open('sales.json','w')\n",
        "t=fd.write(js)\n",
        "fd.close()"
      ],
      "execution_count": 61,
      "outputs": []
    },
    {
      "cell_type": "code",
      "metadata": {
        "id": "msuYVik7n8ol"
      },
      "source": [
        ""
      ],
      "execution_count": null,
      "outputs": []
    }
  ]
}