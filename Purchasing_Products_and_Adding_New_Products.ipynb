{
  "nbformat": 4,
  "nbformat_minor": 0,
  "metadata": {
    "colab": {
      "name": "Purchasing Products and Adding New Products.ipynb",
      "provenance": [],
      "collapsed_sections": []
    },
    "kernelspec": {
      "name": "python3",
      "display_name": "Python 3"
    },
    "language_info": {
      "name": "python"
    }
  },
  "cells": [
    {
      "cell_type": "code",
      "metadata": {
        "id": "mevyNi5s_ywe"
      },
      "source": [
        "record = {1110: {\"Name\": \"Apple\", \"Price\": 40, \"Quantity\": 100, \"Mfg\": \"02-09-2021\", \"Exp\": \"15-09-2021\"},\n",
        "          1111: {\"Name\": \"Water-Melon\", \"Price\": 30, \"Quantity\": 120, \"Mfg\": \"02-09-2021\", \"Exp\": \"10-09-2021\"},\n",
        "          1112: {\"Name\": \"250gm Raisins\", \"Price\": 320, \"Quantity\": 200, \"Mfg\": \"31-08-2021\", \"Exp\": \"30-10-2021\"},\n",
        "          1113: {\"Name\": \"250gm Peanuts\", \"Price\": 300, \"Quantity\": 150, \"Mfg\": \"31-08-2021\", \"Exp\": \"30-10-2021\"},\n",
        "          1114: {\"Name\": \"Instant NOodles\", \"Price\": 30, \"Quantity\": 70, \"Mfg\": \"02-09-2021\", \"Exp\": \"15-10-2021\"},\n",
        "          1115: {\"Name\": \"1kg Vermicelli\", \"Price\": 40, \"Quantity\": 100, \"Mfg\": \"02-09-2021\", \"Exp\": \"15-10-2021\"},\n",
        "          1116: {\"Name\": \"Corn Flakes\", \"Price\": 100, \"Quantity\": 60, \"Mfg\": \"02-09-2021\", \"Exp\": \"20-10-2021\"},\n",
        "          1117: {\"Name\": \"Strawberry Corn Flakes\", \"Price\": 200, \"Quantity\": 80, \"Mfg\": \"02-09-2021\", \"Exp\": \"20-10-2021\"},\n",
        "          1118: {\"Name\": \"Eggs a dozen\", \"Price\": 50, \"Quantity\": 50, \"Mfg\": \"02-09-2021\", \"Exp\": \"15-09-2021\"},\n",
        "          1119: {\"Name\": \"Muesli\", \"Price\": 250, \"Quantity\": 70, \"Mfg\": \"02-09-2021\", \"Exp\": \"15-09-2021\"},\n",
        "          11110: {\"Name\": \"Truful(Cake)\", \"Price\": 400, \"Quantity\": 20, \"Mfg\": \"02-09-2021\", \"Exp\": \"09-09-2021\"},\n",
        "          11111: {\"Name\": \"Dairy Milk Celebrations\", \"Price\": 300, \"Quantity\": 80, \"Mfg\": \"02-09-2021\", \"Exp\": \"25-09-2021\"},\n",
        "          11112: {\"Name\": \"Pizza Base(Pack of 2)\", \"Price\": 30, \"Quantity\": 30, \"Mfg\": \"01-09-2021\", \"Exp\": \"15-09-2021\"},\n",
        "          11113: {\"Name\": \"Pizza Pasta Sauce\", \"Price\": 170, \"Quantity\": 80, \"Mfg\": \"02-09-2021\", \"Exp\": \"20-10-2021\"},\n",
        "          11114: {\"Name\": \"Pasta\", \"Price\": 100, \"Quantity\": 60, \"Mfg\": \"02-09-2021\", \"Exp\": \"15-10-2021\"},\n",
        "          11115: {\"Name\": \"Mayonnaise\", \"Price\": 90, \"Quantity\": 75, \"Mfg\": \"02-09-2021\", \"Exp\": \"30-10-2021\"},\n",
        "          11116: {\"Name\": \"Cheese\", \"Price\": 60, \"Quantity\": 50, \"Mfg\": \"02-09-2021\", \"Exp\": \"15-10-2021\"},\n",
        "          11117: {\"Name\": \"Jeera Rice\", \"Price\": 100, \"Quantity\": 40, \"Mfg\": \"01-09-2021\", \"Exp\": \"30-10-2021\"},\n",
        "          11118: {\"Name\": \"Veg Soup\", \"Price\": 35, \"Quantity\": 90, \"Mfg\": \"02-09-2021\", \"Exp\": \"30-10-2021\"},\n",
        "          11119: {\"Name\": \"Perk Chocolate Packet of 100\", \"Price\": 100, \"Quantity\": 60, \"Mfg\": \"01-09-2021\", \"Exp\": \"30-09-2021\"},\n",
        "          11120: {\"Name\": \"5-Star Chocolate Pack of 100\", \"Price\": 150, \"Quantity\": 70, \"Mfg\": \"01-09-2021\", \"Exp\": \"30-09-2021\"},\n",
        "          11121: {\"Name\": \"MilkBar Chocolate Pack of 100\", \"Price\": 100, \"Quantity\": 60, \"Mfg\": \"01-09-2021\", \"Exp\": \"30-09-2021\"},\n",
        "          11121: {\"Name\": \"Dark Chocolate\", \"Price\": 100, \"Quantity\": 80, \"Mfg\": \"01-09-2021\", \"Exp\": \"25-09-2021\"},\n",
        "          11122: {\"Name\": \"Instant Idli\", \"Price\": 40, \"Quantity\": 50, \"Mfg\": \"01-09-2021\", \"Exp\": \"25-10-2021\"},\n",
        "          11123: {\"Name\": \"Rawa Idli\", \"Price\": 50, \"Quantity\": 60, \"Mfg\": \"01-09-2021\", \"Exp\": \"30-10-2021\"},\n",
        "          11124: {\"Name\": \"Instant Gulab Jamun\", \"Price\": 70, \"Quantity\": 100, \"Mfg\": \"01-09-2021\", \"Exp\": \"30-10-2021\"},\n",
        "          11125: {\"Name\": \"Maggi\", \"Price\": 20, \"Quantity\": 80, \"Mfg\": \"01-09-2021\", \"Exp\": \"30-10-2021\"},\n",
        "          11126: {\"Name\": \"Dhokla Mix\", \"Price\": 110, \"Quantity\": 120, \"Mfg\": \"01-09-2021\", \"Exp\": \"30-10-2021\"},\n",
        "          11127: {\"Name\": \"Dosa Mix\", \"Price\": 120, \"Quantity\": 130, \"Mfg\": \"01-09-2021\", \"Exp\": \"30-10-2021\"},\n",
        "          11128: {\"Name\": \"Sambahr Mix\", \"Price\": 100, \"Quantity\": 200, \"Mfg\": \"01-09-2021\", \"Exp\": \"30-10-2021\"},\n",
        "          11129: {\"Name\": \"amily Pack Pista Icecream\", \"Price\": 170, \"Quantity\": 80, \"Mfg\": \"01-09-2021\", \"Exp\": \"30-10-2021\"}}"
      ],
      "execution_count": 54,
      "outputs": []
    },
    {
      "cell_type": "markdown",
      "metadata": {
        "id": "xlXQy7u-D9vn"
      },
      "source": [
        "# **READ INVENTORY**"
      ]
    },
    {
      "cell_type": "code",
      "metadata": {
        "id": "izOvL0Mle8lZ"
      },
      "source": [
        "import json\n",
        "js=json.dumps(record)"
      ],
      "execution_count": 55,
      "outputs": []
    },
    {
      "cell_type": "code",
      "metadata": {
        "id": "EC5uv9ZS9lhC"
      },
      "source": [
        "fd = open('record.json','r')\n",
        "txt=fd.read()\n",
        "fd.close()"
      ],
      "execution_count": 56,
      "outputs": []
    },
    {
      "cell_type": "markdown",
      "metadata": {
        "id": "g8wBiCHiEGyo"
      },
      "source": [
        "# **PURCHASE ITEMS**"
      ]
    },
    {
      "cell_type": "code",
      "metadata": {
        "colab": {
          "base_uri": "https://localhost:8080/"
        },
        "id": "RVS38k97ctAu",
        "outputId": "968750c4-22ce-4670-e84d-354fd5447614"
      },
      "source": [
        "import time\n",
        "print(\"Check the items: \",record)\n",
        "print(\"_________________________________________________________________________________________\")\n",
        "reg=int(input(\"Enter the product ID: \"))\n",
        "qty=int(input(\"Enter the quantity: \"))\n",
        "\n",
        "if(reg in record):\n",
        "      print(\"B I L L\")\n",
        "      time.ctime()\n",
        "      time.ctime()\n",
        "      print(\"Name: \",record[reg]['Name'])\n",
        "      print(\"Price: \",record[reg]['Price'])\n",
        "      print(\"Quantity\",qty)\n",
        "      print(\"*****************************************\")\n",
        "      print(\"*****************************************\")\n",
        "      print(\"Total price: \", record[reg]['Price']*qty)\n",
        "      print(\"--------------------HOPE TO SEE YOU AGAIN---------------------\")\n",
        "else:\n",
        "  print(\"Check the list! Enter the correct id.\")"
      ],
      "execution_count": 57,
      "outputs": [
        {
          "output_type": "stream",
          "name": "stdout",
          "text": [
            "Check the items:  {1110: {'Name': 'Apple', 'Price': 40, 'Quantity': 100, 'Mfg': '02-09-2021', 'Exp': '15-09-2021'}, 1111: {'Name': 'Water-Melon', 'Price': 30, 'Quantity': 120, 'Mfg': '02-09-2021', 'Exp': '10-09-2021'}, 1112: {'Name': '250gm Raisins', 'Price': 320, 'Quantity': 200, 'Mfg': '31-08-2021', 'Exp': '30-10-2021'}, 1113: {'Name': '250gm Peanuts', 'Price': 300, 'Quantity': 150, 'Mfg': '31-08-2021', 'Exp': '30-10-2021'}, 1114: {'Name': 'Instant NOodles', 'Price': 30, 'Quantity': 70, 'Mfg': '02-09-2021', 'Exp': '15-10-2021'}, 1115: {'Name': '1kg Vermicelli', 'Price': 40, 'Quantity': 100, 'Mfg': '02-09-2021', 'Exp': '15-10-2021'}, 1116: {'Name': 'Corn Flakes', 'Price': 100, 'Quantity': 60, 'Mfg': '02-09-2021', 'Exp': '20-10-2021'}, 1117: {'Name': 'Strawberry Corn Flakes', 'Price': 200, 'Quantity': 80, 'Mfg': '02-09-2021', 'Exp': '20-10-2021'}, 1118: {'Name': 'Eggs a dozen', 'Price': 50, 'Quantity': 50, 'Mfg': '02-09-2021', 'Exp': '15-09-2021'}, 1119: {'Name': 'Muesli', 'Price': 250, 'Quantity': 70, 'Mfg': '02-09-2021', 'Exp': '15-09-2021'}, 11110: {'Name': 'Truful(Cake)', 'Price': 400, 'Quantity': 20, 'Mfg': '02-09-2021', 'Exp': '09-09-2021'}, 11111: {'Name': 'Dairy Milk Celebrations', 'Price': 300, 'Quantity': 80, 'Mfg': '02-09-2021', 'Exp': '25-09-2021'}, 11112: {'Name': 'Pizza Base(Pack of 2)', 'Price': 30, 'Quantity': 30, 'Mfg': '01-09-2021', 'Exp': '15-09-2021'}, 11113: {'Name': 'Pizza Pasta Sauce', 'Price': 170, 'Quantity': 80, 'Mfg': '02-09-2021', 'Exp': '20-10-2021'}, 11114: {'Name': 'Pasta', 'Price': 100, 'Quantity': 60, 'Mfg': '02-09-2021', 'Exp': '15-10-2021'}, 11115: {'Name': 'Mayonnaise', 'Price': 90, 'Quantity': 75, 'Mfg': '02-09-2021', 'Exp': '30-10-2021'}, 11116: {'Name': 'Cheese', 'Price': 60, 'Quantity': 50, 'Mfg': '02-09-2021', 'Exp': '15-10-2021'}, 11117: {'Name': 'Jeera Rice', 'Price': 100, 'Quantity': 40, 'Mfg': '01-09-2021', 'Exp': '30-10-2021'}, 11118: {'Name': 'Veg Soup', 'Price': 35, 'Quantity': 90, 'Mfg': '02-09-2021', 'Exp': '30-10-2021'}, 11119: {'Name': 'Perk Chocolate Packet of 100', 'Price': 100, 'Quantity': 60, 'Mfg': '01-09-2021', 'Exp': '30-09-2021'}, 11120: {'Name': '5-Star Chocolate Pack of 100', 'Price': 150, 'Quantity': 70, 'Mfg': '01-09-2021', 'Exp': '30-09-2021'}, 11121: {'Name': 'Dark Chocolate', 'Price': 100, 'Quantity': 80, 'Mfg': '01-09-2021', 'Exp': '25-09-2021'}, 11122: {'Name': 'Instant Idli', 'Price': 40, 'Quantity': 50, 'Mfg': '01-09-2021', 'Exp': '25-10-2021'}, 11123: {'Name': 'Rawa Idli', 'Price': 50, 'Quantity': 60, 'Mfg': '01-09-2021', 'Exp': '30-10-2021'}, 11124: {'Name': 'Instant Gulab Jamun', 'Price': 70, 'Quantity': 100, 'Mfg': '01-09-2021', 'Exp': '30-10-2021'}, 11125: {'Name': 'Maggi', 'Price': 20, 'Quantity': 80, 'Mfg': '01-09-2021', 'Exp': '30-10-2021'}, 11126: {'Name': 'Dhokla Mix', 'Price': 110, 'Quantity': 120, 'Mfg': '01-09-2021', 'Exp': '30-10-2021'}, 11127: {'Name': 'Dosa Mix', 'Price': 120, 'Quantity': 130, 'Mfg': '01-09-2021', 'Exp': '30-10-2021'}, 11128: {'Name': 'Sambahr Mix', 'Price': 100, 'Quantity': 200, 'Mfg': '01-09-2021', 'Exp': '30-10-2021'}, 11129: {'Name': 'amily Pack Pista Icecream', 'Price': 170, 'Quantity': 80, 'Mfg': '01-09-2021', 'Exp': '30-10-2021'}}\n",
            "_________________________________________________________________________________________\n",
            "Enter the product ID: 1110\n",
            "Enter the quantity: 5\n",
            "B I L L\n",
            "Name:  Apple\n",
            "Price:  40\n",
            "Quantity 5\n",
            "*****************************************\n",
            "*****************************************\n",
            "Total price:  200\n",
            "--------------------HOPE TO SEE YOU AGAIN---------------------\n"
          ]
        }
      ]
    },
    {
      "cell_type": "markdown",
      "metadata": {
        "id": "xZyo3jmqEOs_"
      },
      "source": [
        "# **UPDATE INVENTORY AFTER PURCHASING**"
      ]
    },
    {
      "cell_type": "code",
      "metadata": {
        "id": "IWzY1EepuKEm"
      },
      "source": [
        "js = json.dumps(record)\n",
        "\n",
        "fd = open(\"record.json\",'w')\n",
        "fd.write(js)\n",
        "fd.close()"
      ],
      "execution_count": 58,
      "outputs": []
    },
    {
      "cell_type": "code",
      "metadata": {
        "id": "q9LSg-pjgC4L"
      },
      "source": [
        "record[reg]['Quantity'] = record[reg]['Quantity']-qty"
      ],
      "execution_count": 59,
      "outputs": []
    },
    {
      "cell_type": "code",
      "metadata": {
        "colab": {
          "base_uri": "https://localhost:8080/"
        },
        "id": "DqjKJOOt9pzI",
        "outputId": "c3361743-4dd5-42f4-9c42-27e41c65cad1"
      },
      "source": [
        "record"
      ],
      "execution_count": 60,
      "outputs": [
        {
          "output_type": "execute_result",
          "data": {
            "text/plain": [
              "{1110: {'Exp': '15-09-2021',\n",
              "  'Mfg': '02-09-2021',\n",
              "  'Name': 'Apple',\n",
              "  'Price': 40,\n",
              "  'Quantity': 95},\n",
              " 1111: {'Exp': '10-09-2021',\n",
              "  'Mfg': '02-09-2021',\n",
              "  'Name': 'Water-Melon',\n",
              "  'Price': 30,\n",
              "  'Quantity': 120},\n",
              " 1112: {'Exp': '30-10-2021',\n",
              "  'Mfg': '31-08-2021',\n",
              "  'Name': '250gm Raisins',\n",
              "  'Price': 320,\n",
              "  'Quantity': 200},\n",
              " 1113: {'Exp': '30-10-2021',\n",
              "  'Mfg': '31-08-2021',\n",
              "  'Name': '250gm Peanuts',\n",
              "  'Price': 300,\n",
              "  'Quantity': 150},\n",
              " 1114: {'Exp': '15-10-2021',\n",
              "  'Mfg': '02-09-2021',\n",
              "  'Name': 'Instant NOodles',\n",
              "  'Price': 30,\n",
              "  'Quantity': 70},\n",
              " 1115: {'Exp': '15-10-2021',\n",
              "  'Mfg': '02-09-2021',\n",
              "  'Name': '1kg Vermicelli',\n",
              "  'Price': 40,\n",
              "  'Quantity': 100},\n",
              " 1116: {'Exp': '20-10-2021',\n",
              "  'Mfg': '02-09-2021',\n",
              "  'Name': 'Corn Flakes',\n",
              "  'Price': 100,\n",
              "  'Quantity': 60},\n",
              " 1117: {'Exp': '20-10-2021',\n",
              "  'Mfg': '02-09-2021',\n",
              "  'Name': 'Strawberry Corn Flakes',\n",
              "  'Price': 200,\n",
              "  'Quantity': 80},\n",
              " 1118: {'Exp': '15-09-2021',\n",
              "  'Mfg': '02-09-2021',\n",
              "  'Name': 'Eggs a dozen',\n",
              "  'Price': 50,\n",
              "  'Quantity': 50},\n",
              " 1119: {'Exp': '15-09-2021',\n",
              "  'Mfg': '02-09-2021',\n",
              "  'Name': 'Muesli',\n",
              "  'Price': 250,\n",
              "  'Quantity': 70},\n",
              " 11110: {'Exp': '09-09-2021',\n",
              "  'Mfg': '02-09-2021',\n",
              "  'Name': 'Truful(Cake)',\n",
              "  'Price': 400,\n",
              "  'Quantity': 20},\n",
              " 11111: {'Exp': '25-09-2021',\n",
              "  'Mfg': '02-09-2021',\n",
              "  'Name': 'Dairy Milk Celebrations',\n",
              "  'Price': 300,\n",
              "  'Quantity': 80},\n",
              " 11112: {'Exp': '15-09-2021',\n",
              "  'Mfg': '01-09-2021',\n",
              "  'Name': 'Pizza Base(Pack of 2)',\n",
              "  'Price': 30,\n",
              "  'Quantity': 30},\n",
              " 11113: {'Exp': '20-10-2021',\n",
              "  'Mfg': '02-09-2021',\n",
              "  'Name': 'Pizza Pasta Sauce',\n",
              "  'Price': 170,\n",
              "  'Quantity': 80},\n",
              " 11114: {'Exp': '15-10-2021',\n",
              "  'Mfg': '02-09-2021',\n",
              "  'Name': 'Pasta',\n",
              "  'Price': 100,\n",
              "  'Quantity': 60},\n",
              " 11115: {'Exp': '30-10-2021',\n",
              "  'Mfg': '02-09-2021',\n",
              "  'Name': 'Mayonnaise',\n",
              "  'Price': 90,\n",
              "  'Quantity': 75},\n",
              " 11116: {'Exp': '15-10-2021',\n",
              "  'Mfg': '02-09-2021',\n",
              "  'Name': 'Cheese',\n",
              "  'Price': 60,\n",
              "  'Quantity': 50},\n",
              " 11117: {'Exp': '30-10-2021',\n",
              "  'Mfg': '01-09-2021',\n",
              "  'Name': 'Jeera Rice',\n",
              "  'Price': 100,\n",
              "  'Quantity': 40},\n",
              " 11118: {'Exp': '30-10-2021',\n",
              "  'Mfg': '02-09-2021',\n",
              "  'Name': 'Veg Soup',\n",
              "  'Price': 35,\n",
              "  'Quantity': 90},\n",
              " 11119: {'Exp': '30-09-2021',\n",
              "  'Mfg': '01-09-2021',\n",
              "  'Name': 'Perk Chocolate Packet of 100',\n",
              "  'Price': 100,\n",
              "  'Quantity': 60},\n",
              " 11120: {'Exp': '30-09-2021',\n",
              "  'Mfg': '01-09-2021',\n",
              "  'Name': '5-Star Chocolate Pack of 100',\n",
              "  'Price': 150,\n",
              "  'Quantity': 70},\n",
              " 11121: {'Exp': '25-09-2021',\n",
              "  'Mfg': '01-09-2021',\n",
              "  'Name': 'Dark Chocolate',\n",
              "  'Price': 100,\n",
              "  'Quantity': 80},\n",
              " 11122: {'Exp': '25-10-2021',\n",
              "  'Mfg': '01-09-2021',\n",
              "  'Name': 'Instant Idli',\n",
              "  'Price': 40,\n",
              "  'Quantity': 50},\n",
              " 11123: {'Exp': '30-10-2021',\n",
              "  'Mfg': '01-09-2021',\n",
              "  'Name': 'Rawa Idli',\n",
              "  'Price': 50,\n",
              "  'Quantity': 60},\n",
              " 11124: {'Exp': '30-10-2021',\n",
              "  'Mfg': '01-09-2021',\n",
              "  'Name': 'Instant Gulab Jamun',\n",
              "  'Price': 70,\n",
              "  'Quantity': 100},\n",
              " 11125: {'Exp': '30-10-2021',\n",
              "  'Mfg': '01-09-2021',\n",
              "  'Name': 'Maggi',\n",
              "  'Price': 20,\n",
              "  'Quantity': 80},\n",
              " 11126: {'Exp': '30-10-2021',\n",
              "  'Mfg': '01-09-2021',\n",
              "  'Name': 'Dhokla Mix',\n",
              "  'Price': 110,\n",
              "  'Quantity': 120},\n",
              " 11127: {'Exp': '30-10-2021',\n",
              "  'Mfg': '01-09-2021',\n",
              "  'Name': 'Dosa Mix',\n",
              "  'Price': 120,\n",
              "  'Quantity': 130},\n",
              " 11128: {'Exp': '30-10-2021',\n",
              "  'Mfg': '01-09-2021',\n",
              "  'Name': 'Sambahr Mix',\n",
              "  'Price': 100,\n",
              "  'Quantity': 200},\n",
              " 11129: {'Exp': '30-10-2021',\n",
              "  'Mfg': '01-09-2021',\n",
              "  'Name': 'amily Pack Pista Icecream',\n",
              "  'Price': 170,\n",
              "  'Quantity': 80}}"
            ]
          },
          "metadata": {},
          "execution_count": 60
        }
      ]
    },
    {
      "cell_type": "markdown",
      "metadata": {
        "id": "LTtMM8JzEbhg"
      },
      "source": [
        "# **READ DATA FROM JSON**"
      ]
    },
    {
      "cell_type": "code",
      "metadata": {
        "id": "khaY4dCgyJGr"
      },
      "source": [
        "fd = open(\"record.json\",'r')\n",
        "txt = fd.read()\n",
        "fd.close()\n",
        "\n",
        "record = json.loads(txt)"
      ],
      "execution_count": 62,
      "outputs": []
    },
    {
      "cell_type": "markdown",
      "metadata": {
        "id": "GBcek5X2EjKG"
      },
      "source": [
        "# **ADD NEW ITEM TO THE INVENTORY**"
      ]
    },
    {
      "cell_type": "code",
      "metadata": {
        "colab": {
          "base_uri": "https://localhost:8080/"
        },
        "id": "99lOdddU9LNl",
        "outputId": "d3f15447-895a-497d-e90c-373f035ff268"
      },
      "source": [
        "prod_id = input(\"Enter product id:\")\n",
        "name = input(\"Enter name:\")\n",
        "pr = int(input(\"Enter price:\"))\n",
        "qn = int(input(\"Enter quantity:\"))\n",
        "mfg = input(\"Enter manufacturing date: \")\n",
        "ub = input(\"Enter expiry date: \")\n",
        "\n",
        "record[prod_id] = {'Name': name, 'Price': pr, 'Quantity': qn, 'Mfg': mfg, 'Exp': ub}\n",
        "\n",
        "js = json.dumps(record)\n",
        "\n",
        "fd = open(\"record.json\",'w')\n",
        "fd.write(js)\n",
        "fd.close()"
      ],
      "execution_count": 64,
      "outputs": [
        {
          "name": "stdout",
          "output_type": "stream",
          "text": [
            "Enter product id:110\n",
            "Enter name:milk\n",
            "Enter price:22\n",
            "Enter quantity:30\n",
            "Enter manufacturing date: 3-9-21\n",
            "Enter expiry date: 5-9-21\n"
          ]
        }
      ]
    },
    {
      "cell_type": "code",
      "metadata": {
        "colab": {
          "base_uri": "https://localhost:8080/"
        },
        "id": "9qroVjGG-7AK",
        "outputId": "326cc1b1-0aea-4b46-9788-7688dac932e4"
      },
      "source": [
        "record"
      ],
      "execution_count": 65,
      "outputs": [
        {
          "output_type": "execute_result",
          "data": {
            "text/plain": [
              "{'110': {'Exp': '5-9-21',\n",
              "  'Mfg': '3-9-21',\n",
              "  'Name': 'milk',\n",
              "  'Price': 22,\n",
              "  'Quantity': 30},\n",
              " '1110': {'Exp': '15-09-2021',\n",
              "  'Mfg': '02-09-2021',\n",
              "  'Name': 'Apple',\n",
              "  'Price': 40,\n",
              "  'Quantity': 100},\n",
              " '1111': {'Exp': '10-09-2021',\n",
              "  'Mfg': '02-09-2021',\n",
              "  'Name': 'Water-Melon',\n",
              "  'Price': 30,\n",
              "  'Quantity': 120},\n",
              " '11110': {'Exp': '09-09-2021',\n",
              "  'Mfg': '02-09-2021',\n",
              "  'Name': 'Truful(Cake)',\n",
              "  'Price': 400,\n",
              "  'Quantity': 20},\n",
              " '11111': {'Exp': '25-09-2021',\n",
              "  'Mfg': '02-09-2021',\n",
              "  'Name': 'Dairy Milk Celebrations',\n",
              "  'Price': 300,\n",
              "  'Quantity': 80},\n",
              " '11112': {'Exp': '15-09-2021',\n",
              "  'Mfg': '01-09-2021',\n",
              "  'Name': 'Pizza Base(Pack of 2)',\n",
              "  'Price': 30,\n",
              "  'Quantity': 30},\n",
              " '11113': {'Exp': '20-10-2021',\n",
              "  'Mfg': '02-09-2021',\n",
              "  'Name': 'Pizza Pasta Sauce',\n",
              "  'Price': 170,\n",
              "  'Quantity': 80},\n",
              " '11114': {'Exp': '15-10-2021',\n",
              "  'Mfg': '02-09-2021',\n",
              "  'Name': 'Pasta',\n",
              "  'Price': 100,\n",
              "  'Quantity': 60},\n",
              " '11115': {'Exp': '30-10-2021',\n",
              "  'Mfg': '02-09-2021',\n",
              "  'Name': 'Mayonnaise',\n",
              "  'Price': 90,\n",
              "  'Quantity': 75},\n",
              " '11116': {'Exp': '15-10-2021',\n",
              "  'Mfg': '02-09-2021',\n",
              "  'Name': 'Cheese',\n",
              "  'Price': 60,\n",
              "  'Quantity': 50},\n",
              " '11117': {'Exp': '30-10-2021',\n",
              "  'Mfg': '01-09-2021',\n",
              "  'Name': 'Jeera Rice',\n",
              "  'Price': 100,\n",
              "  'Quantity': 40},\n",
              " '11118': {'Exp': '30-10-2021',\n",
              "  'Mfg': '02-09-2021',\n",
              "  'Name': 'Veg Soup',\n",
              "  'Price': 35,\n",
              "  'Quantity': 90},\n",
              " '11119': {'Exp': '30-09-2021',\n",
              "  'Mfg': '01-09-2021',\n",
              "  'Name': 'Perk Chocolate Packet of 100',\n",
              "  'Price': 100,\n",
              "  'Quantity': 60},\n",
              " '1112': {'Exp': '30-10-2021',\n",
              "  'Mfg': '31-08-2021',\n",
              "  'Name': '250gm Raisins',\n",
              "  'Price': 320,\n",
              "  'Quantity': 200},\n",
              " '11120': {'Exp': '30-09-2021',\n",
              "  'Mfg': '01-09-2021',\n",
              "  'Name': '5-Star Chocolate Pack of 100',\n",
              "  'Price': 150,\n",
              "  'Quantity': 70},\n",
              " '11121': {'Exp': '25-09-2021',\n",
              "  'Mfg': '01-09-2021',\n",
              "  'Name': 'Dark Chocolate',\n",
              "  'Price': 100,\n",
              "  'Quantity': 80},\n",
              " '11122': {'Exp': '25-10-2021',\n",
              "  'Mfg': '01-09-2021',\n",
              "  'Name': 'Instant Idli',\n",
              "  'Price': 40,\n",
              "  'Quantity': 50},\n",
              " '11123': {'Exp': '30-10-2021',\n",
              "  'Mfg': '01-09-2021',\n",
              "  'Name': 'Rawa Idli',\n",
              "  'Price': 50,\n",
              "  'Quantity': 60},\n",
              " '11124': {'Exp': '30-10-2021',\n",
              "  'Mfg': '01-09-2021',\n",
              "  'Name': 'Instant Gulab Jamun',\n",
              "  'Price': 70,\n",
              "  'Quantity': 100},\n",
              " '11125': {'Exp': '30-10-2021',\n",
              "  'Mfg': '01-09-2021',\n",
              "  'Name': 'Maggi',\n",
              "  'Price': 20,\n",
              "  'Quantity': 80},\n",
              " '11126': {'Exp': '30-10-2021',\n",
              "  'Mfg': '01-09-2021',\n",
              "  'Name': 'Dhokla Mix',\n",
              "  'Price': 110,\n",
              "  'Quantity': 120},\n",
              " '11127': {'Exp': '30-10-2021',\n",
              "  'Mfg': '01-09-2021',\n",
              "  'Name': 'Dosa Mix',\n",
              "  'Price': 120,\n",
              "  'Quantity': 130},\n",
              " '11128': {'Exp': '30-10-2021',\n",
              "  'Mfg': '01-09-2021',\n",
              "  'Name': 'Sambahr Mix',\n",
              "  'Price': 100,\n",
              "  'Quantity': 200},\n",
              " '11129': {'Exp': '30-10-2021',\n",
              "  'Mfg': '01-09-2021',\n",
              "  'Name': 'amily Pack Pista Icecream',\n",
              "  'Price': 170,\n",
              "  'Quantity': 80},\n",
              " '1113': {'Exp': '30-10-2021',\n",
              "  'Mfg': '31-08-2021',\n",
              "  'Name': '250gm Peanuts',\n",
              "  'Price': 300,\n",
              "  'Quantity': 150},\n",
              " '1114': {'Exp': '15-10-2021',\n",
              "  'Mfg': '02-09-2021',\n",
              "  'Name': 'Instant NOodles',\n",
              "  'Price': 30,\n",
              "  'Quantity': 70},\n",
              " '1115': {'Exp': '15-10-2021',\n",
              "  'Mfg': '02-09-2021',\n",
              "  'Name': '1kg Vermicelli',\n",
              "  'Price': 40,\n",
              "  'Quantity': 100},\n",
              " '1116': {'Exp': '20-10-2021',\n",
              "  'Mfg': '02-09-2021',\n",
              "  'Name': 'Corn Flakes',\n",
              "  'Price': 100,\n",
              "  'Quantity': 60},\n",
              " '1117': {'Exp': '20-10-2021',\n",
              "  'Mfg': '02-09-2021',\n",
              "  'Name': 'Strawberry Corn Flakes',\n",
              "  'Price': 200,\n",
              "  'Quantity': 80},\n",
              " '1118': {'Exp': '15-09-2021',\n",
              "  'Mfg': '02-09-2021',\n",
              "  'Name': 'Eggs a dozen',\n",
              "  'Price': 50,\n",
              "  'Quantity': 50},\n",
              " '1119': {'Exp': '15-09-2021',\n",
              "  'Mfg': '02-09-2021',\n",
              "  'Name': 'Muesli',\n",
              "  'Price': 250,\n",
              "  'Quantity': 70}}"
            ]
          },
          "metadata": {},
          "execution_count": 65
        }
      ]
    },
    {
      "cell_type": "code",
      "metadata": {
        "id": "awatx5p7_Qw6"
      },
      "source": [
        "del record['110']"
      ],
      "execution_count": 66,
      "outputs": []
    },
    {
      "cell_type": "code",
      "metadata": {
        "colab": {
          "base_uri": "https://localhost:8080/"
        },
        "id": "YCsoF155_XTq",
        "outputId": "1b7470f9-bf64-45b0-bf18-90d3f028d4fa"
      },
      "source": [
        "record"
      ],
      "execution_count": 67,
      "outputs": [
        {
          "output_type": "execute_result",
          "data": {
            "text/plain": [
              "{'1110': {'Exp': '15-09-2021',\n",
              "  'Mfg': '02-09-2021',\n",
              "  'Name': 'Apple',\n",
              "  'Price': 40,\n",
              "  'Quantity': 100},\n",
              " '1111': {'Exp': '10-09-2021',\n",
              "  'Mfg': '02-09-2021',\n",
              "  'Name': 'Water-Melon',\n",
              "  'Price': 30,\n",
              "  'Quantity': 120},\n",
              " '11110': {'Exp': '09-09-2021',\n",
              "  'Mfg': '02-09-2021',\n",
              "  'Name': 'Truful(Cake)',\n",
              "  'Price': 400,\n",
              "  'Quantity': 20},\n",
              " '11111': {'Exp': '25-09-2021',\n",
              "  'Mfg': '02-09-2021',\n",
              "  'Name': 'Dairy Milk Celebrations',\n",
              "  'Price': 300,\n",
              "  'Quantity': 80},\n",
              " '11112': {'Exp': '15-09-2021',\n",
              "  'Mfg': '01-09-2021',\n",
              "  'Name': 'Pizza Base(Pack of 2)',\n",
              "  'Price': 30,\n",
              "  'Quantity': 30},\n",
              " '11113': {'Exp': '20-10-2021',\n",
              "  'Mfg': '02-09-2021',\n",
              "  'Name': 'Pizza Pasta Sauce',\n",
              "  'Price': 170,\n",
              "  'Quantity': 80},\n",
              " '11114': {'Exp': '15-10-2021',\n",
              "  'Mfg': '02-09-2021',\n",
              "  'Name': 'Pasta',\n",
              "  'Price': 100,\n",
              "  'Quantity': 60},\n",
              " '11115': {'Exp': '30-10-2021',\n",
              "  'Mfg': '02-09-2021',\n",
              "  'Name': 'Mayonnaise',\n",
              "  'Price': 90,\n",
              "  'Quantity': 75},\n",
              " '11116': {'Exp': '15-10-2021',\n",
              "  'Mfg': '02-09-2021',\n",
              "  'Name': 'Cheese',\n",
              "  'Price': 60,\n",
              "  'Quantity': 50},\n",
              " '11117': {'Exp': '30-10-2021',\n",
              "  'Mfg': '01-09-2021',\n",
              "  'Name': 'Jeera Rice',\n",
              "  'Price': 100,\n",
              "  'Quantity': 40},\n",
              " '11118': {'Exp': '30-10-2021',\n",
              "  'Mfg': '02-09-2021',\n",
              "  'Name': 'Veg Soup',\n",
              "  'Price': 35,\n",
              "  'Quantity': 90},\n",
              " '11119': {'Exp': '30-09-2021',\n",
              "  'Mfg': '01-09-2021',\n",
              "  'Name': 'Perk Chocolate Packet of 100',\n",
              "  'Price': 100,\n",
              "  'Quantity': 60},\n",
              " '1112': {'Exp': '30-10-2021',\n",
              "  'Mfg': '31-08-2021',\n",
              "  'Name': '250gm Raisins',\n",
              "  'Price': 320,\n",
              "  'Quantity': 200},\n",
              " '11120': {'Exp': '30-09-2021',\n",
              "  'Mfg': '01-09-2021',\n",
              "  'Name': '5-Star Chocolate Pack of 100',\n",
              "  'Price': 150,\n",
              "  'Quantity': 70},\n",
              " '11121': {'Exp': '25-09-2021',\n",
              "  'Mfg': '01-09-2021',\n",
              "  'Name': 'Dark Chocolate',\n",
              "  'Price': 100,\n",
              "  'Quantity': 80},\n",
              " '11122': {'Exp': '25-10-2021',\n",
              "  'Mfg': '01-09-2021',\n",
              "  'Name': 'Instant Idli',\n",
              "  'Price': 40,\n",
              "  'Quantity': 50},\n",
              " '11123': {'Exp': '30-10-2021',\n",
              "  'Mfg': '01-09-2021',\n",
              "  'Name': 'Rawa Idli',\n",
              "  'Price': 50,\n",
              "  'Quantity': 60},\n",
              " '11124': {'Exp': '30-10-2021',\n",
              "  'Mfg': '01-09-2021',\n",
              "  'Name': 'Instant Gulab Jamun',\n",
              "  'Price': 70,\n",
              "  'Quantity': 100},\n",
              " '11125': {'Exp': '30-10-2021',\n",
              "  'Mfg': '01-09-2021',\n",
              "  'Name': 'Maggi',\n",
              "  'Price': 20,\n",
              "  'Quantity': 80},\n",
              " '11126': {'Exp': '30-10-2021',\n",
              "  'Mfg': '01-09-2021',\n",
              "  'Name': 'Dhokla Mix',\n",
              "  'Price': 110,\n",
              "  'Quantity': 120},\n",
              " '11127': {'Exp': '30-10-2021',\n",
              "  'Mfg': '01-09-2021',\n",
              "  'Name': 'Dosa Mix',\n",
              "  'Price': 120,\n",
              "  'Quantity': 130},\n",
              " '11128': {'Exp': '30-10-2021',\n",
              "  'Mfg': '01-09-2021',\n",
              "  'Name': 'Sambahr Mix',\n",
              "  'Price': 100,\n",
              "  'Quantity': 200},\n",
              " '11129': {'Exp': '30-10-2021',\n",
              "  'Mfg': '01-09-2021',\n",
              "  'Name': 'amily Pack Pista Icecream',\n",
              "  'Price': 170,\n",
              "  'Quantity': 80},\n",
              " '1113': {'Exp': '30-10-2021',\n",
              "  'Mfg': '31-08-2021',\n",
              "  'Name': '250gm Peanuts',\n",
              "  'Price': 300,\n",
              "  'Quantity': 150},\n",
              " '1114': {'Exp': '15-10-2021',\n",
              "  'Mfg': '02-09-2021',\n",
              "  'Name': 'Instant NOodles',\n",
              "  'Price': 30,\n",
              "  'Quantity': 70},\n",
              " '1115': {'Exp': '15-10-2021',\n",
              "  'Mfg': '02-09-2021',\n",
              "  'Name': '1kg Vermicelli',\n",
              "  'Price': 40,\n",
              "  'Quantity': 100},\n",
              " '1116': {'Exp': '20-10-2021',\n",
              "  'Mfg': '02-09-2021',\n",
              "  'Name': 'Corn Flakes',\n",
              "  'Price': 100,\n",
              "  'Quantity': 60},\n",
              " '1117': {'Exp': '20-10-2021',\n",
              "  'Mfg': '02-09-2021',\n",
              "  'Name': 'Strawberry Corn Flakes',\n",
              "  'Price': 200,\n",
              "  'Quantity': 80},\n",
              " '1118': {'Exp': '15-09-2021',\n",
              "  'Mfg': '02-09-2021',\n",
              "  'Name': 'Eggs a dozen',\n",
              "  'Price': 50,\n",
              "  'Quantity': 50},\n",
              " '1119': {'Exp': '15-09-2021',\n",
              "  'Mfg': '02-09-2021',\n",
              "  'Name': 'Muesli',\n",
              "  'Price': 250,\n",
              "  'Quantity': 70}}"
            ]
          },
          "metadata": {},
          "execution_count": 67
        }
      ]
    },
    {
      "cell_type": "code",
      "metadata": {
        "id": "SXo_KrKZRxCg"
      },
      "source": [
        ""
      ],
      "execution_count": null,
      "outputs": []
    }
  ]
}